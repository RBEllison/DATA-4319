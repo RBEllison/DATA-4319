{
 "cells": [
  {
   "cell_type": "markdown",
   "metadata": {},
   "source": [
    "## <center> Logistic Regression Algorithm</center>\n",
    "<center> Using Breast Cancer Data</center>"
   ]
  },
  {
   "cell_type": "markdown",
   "metadata": {},
   "source": [
    "<img src=\"../../../_resources/images/cancer.jpg\" />"
   ]
  },
  {
   "cell_type": "markdown",
   "metadata": {},
   "source": [
    "## The Intuition\n",
    "Logistic regression is similiar to simple and multiple regression. The difference is it is a classifier of binary data instead of predicting continuous variables. Furthermore, the logistic regression model uses probability to predict the dependent variable.<br>\n",
    "\n",
    "**Important Formulas :**\n",
    "\n",
    "$$\\hat y_i = \\sigma (w^Tx_i + b)$$\n",
    "\n",
    "\n",
    "$$L_{ce}(\\hat y_i, y_i) = -[y_i\\  log \\ \\hat y_i + (1 - y_i) \\ log(1 - \\hat y_i)]$$\n",
    "\n",
    "\n",
    "$$Cost(w, b) = \\frac{1}{N} \\sum L_{ce}(\\hat y_i, y_i)$$\n",
    "\n",
    "\n",
    "$$gradient = \\frac{\\partial l_{ce}(w,b)}{\\partial w_i}= [\\sigma(w^Tx_i + b) - y] x_i $$\n",
    "\n",
    "\n",
    "$$ Bias = [\\sigma(w^Tx_i + b) - y] $$\n",
    "\n",
    "\n",
    "**Steps :**\n",
    "\n",
    "**Step One:** Split the data into training and test set.\n",
    "\n",
    "**Step Two :**  fjsk fjkdsl fjkdsa\n",
    " \n",
    "**Step Three :**  fjdsk fjk hdksa\n",
    " \n",
    "\n",
    " "
   ]
  },
  {
   "cell_type": "markdown",
   "metadata": {},
   "source": [
    "## Code"
   ]
  },
  {
   "cell_type": "code",
   "execution_count": null,
   "metadata": {},
   "outputs": [],
   "source": [
    "import pandas as pd\n",
    "import numpy as np\n",
    "from sklearn.model_selection import train_test_split"
   ]
  },
  {
   "cell_type": "code",
   "execution_count": null,
   "metadata": {},
   "outputs": [],
   "source": [
    "# Read the data file\n",
    "data = pd.read_csv('../../../_resources/data/cancer.csv')\n",
    "data.head()\n",
    "\n",
    "# Seperate by dependent and independent variables\n",
    "x = data.iloc[:, [2, 3]].values\n",
    "y = data.iloc[:, [1]].values\n",
    "\n",
    "# Change y variables to 1 or 0\n",
    "for i in range (0,len(y)):\n",
    "    if(y[i] == 'M'):\n",
    "        y[i] = 1\n",
    "    else:\n",
    "        y[i] = 0  "
   ]
  },
  {
   "cell_type": "markdown",
   "metadata": {},
   "source": [
    "### Split the data"
   ]
  },
  {
   "cell_type": "code",
   "execution_count": null,
   "metadata": {},
   "outputs": [],
   "source": [
    "x_train, x_test, y_train, y_test = train_test_split(x, y, test_size = 0.3, random_state = 0)"
   ]
  },
  {
   "cell_type": "markdown",
   "metadata": {},
   "source": [
    "### Create Logistic Regression Class"
   ]
  },
  {
   "cell_type": "code",
   "execution_count": null,
   "metadata": {},
   "outputs": [],
   "source": [
    "class LogisticRegression:\n",
    "    def __init__(self, lr=0.01, num_iter=100000, fit_intercept=True, verbose=False):\n",
    "        self.lr = lr\n",
    "        self.num_iter = num_iter\n",
    "        self.fit_intercept = fit_intercept\n",
    "    \n",
    "    def __add_intercept(self, X):\n",
    "        intercept = np.ones((X.shape[0], 1))\n",
    "        return np.concatenate((intercept, X), axis=1)\n",
    "    \n",
    "    def __sigmoid(self, z):\n",
    "        return 1 / (1 + np.exp(-z))\n",
    "    def __loss(self, h, y):\n",
    "        return (-y * np.log(h) - (1 - y) * np.log(1 - h)).mean()\n",
    "    \n",
    "    def fit(self, X, y):\n",
    "        if self.fit_intercept:\n",
    "            X = self.__add_intercept(X)\n",
    "        \n",
    "        # weights initialization\n",
    "        self.theta = np.zeros(X.shape[1])\n",
    "        \n",
    "        for i in range(self.num_iter):\n",
    "            z = np.dot(X, self.theta)\n",
    "            h = self.__sigmoid(z)\n",
    "            gradient = np.dot(X.T, (h - y)) / y.size\n",
    "            self.theta -= self.lr * gradient\n",
    "            \n",
    "            if(self.verbose == True and i % 10000 == 0):\n",
    "                z = np.dot(X, self.theta)\n",
    "                h = self.__sigmoid(z)\n",
    "                print(f'loss: {self.__loss(h, y)} \\t')\n",
    "    \n",
    "    def predict_prob(self, X):\n",
    "        if self.fit_intercept:\n",
    "            X = self.__add_intercept(X)\n",
    "    \n",
    "        return self.__sigmoid(np.dot(X, self.theta))\n",
    "    \n",
    "    def predict(self, X, threshold):\n",
    "        return self.predict_prob(X) >= threshold"
   ]
  },
  {
   "cell_type": "code",
   "execution_count": null,
   "metadata": {},
   "outputs": [],
   "source": [
    "# Needed Variables\n",
    "n_iter = 1000\n",
    "theta = np.zeros(x.shape[1])\n",
    "lr = 0.01\n",
    "\n",
    "model = LogisticRegression(lr=0.1, num_iter=300000)\n",
    "%time model.fit(x_train, y_train)\n",
    "\n",
    "\n",
    "preds = model.predict(x_test, .5)\n",
    "# accuracy\n",
    "(preds == y_test).mean()\n",
    "\n",
    "    \n",
    "    "
   ]
  },
  {
   "cell_type": "code",
   "execution_count": null,
   "metadata": {},
   "outputs": [],
   "source": []
  },
  {
   "cell_type": "code",
   "execution_count": null,
   "metadata": {},
   "outputs": [],
   "source": []
  }
 ],
 "metadata": {
  "kernelspec": {
   "display_name": "Python 3",
   "language": "python",
   "name": "python3"
  },
  "language_info": {
   "codemirror_mode": {
    "name": "ipython",
    "version": 3
   },
   "file_extension": ".py",
   "mimetype": "text/x-python",
   "name": "python",
   "nbconvert_exporter": "python",
   "pygments_lexer": "ipython3",
   "version": "3.7.3"
  }
 },
 "nbformat": 4,
 "nbformat_minor": 2
}
